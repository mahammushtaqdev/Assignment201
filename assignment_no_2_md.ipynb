{
  "nbformat": 4,
  "nbformat_minor": 0,
  "metadata": {
    "colab": {
      "provenance": [],
      "include_colab_link": true
    },
    "kernelspec": {
      "name": "python3",
      "display_name": "Python 3"
    },
    "language_info": {
      "name": "python"
    }
  },
  "cells": [
    {
      "cell_type": "markdown",
      "metadata": {
        "id": "view-in-github",
        "colab_type": "text"
      },
      "source": [
        "<a href=\"https://colab.research.google.com/github/mahammushtaqdev/Assignment201/blob/main/assignment_no_2_md.ipynb\" target=\"_parent\"><img src=\"https://colab.research.google.com/assets/colab-badge.svg\" alt=\"Open In Colab\"/></a>"
      ]
    },
    {
      "cell_type": "markdown",
      "source": [
        "- **API**: A set of rules and tools that allow different software applications to communicate with each other.  \n",
        "- **SDK**: A collection of tools, libraries, and documentation to help developers build applications for a specific platform.  \n",
        "- **Web APIs**: APIs accessible over the web that enable interaction between applications via HTTP protocols.  \n",
        "- **Library APIs**: Predefined functions or methods in libraries that simplify specific tasks in software development.  \n",
        "- **Prompting and Completion**: A process in AI where a user provides an input (prompt), and the model generates relevant output (completion).  "
      ],
      "metadata": {
        "id": "Qg2vn_FyBJVe"
      }
    },
    {
      "cell_type": "markdown",
      "source": [],
      "metadata": {
        "id": "Etp5lyxRAAb0"
      }
    }
  ]
}